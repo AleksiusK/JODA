{
 "cells": [
  {
   "cell_type": "markdown",
   "id": "392f0c89-943f-40e6-b5bb-b2352252c546",
   "metadata": {},
   "source": [
    "# Luentoviikko 4"
   ]
  },
  {
   "cell_type": "markdown",
   "id": "dcd240e7-c277-4d4a-82e5-cd7877a0d9f0",
   "metadata": {},
   "source": [
    "## Luennon tärkeimmät pointit\n",
    "***\n",
    "Neljännellä luentoviikolla kävimme pääasiassa harjoitustyön toteuttamiseen liittyviä käytännön asioita läpi AirBnB- esimerkin avulla. Tärkeä opittava asia luennolla oli myös CRISP-DM prosessi, jota pystyy käyttämään avuksi projektin aloittamisessa ja oikean kysymyksen valinnassa. Läpi käytiin myös malli työvaiheet, joita voidaan käyttää data-analytiikkaprojektin toteuttamiseen. Koodiklinikalla puolestaan syvennyttiin lineaariseen regressioon datan pohjalta ennustamisen tekemisessä.\n",
    "***"
   ]
  },
  {
   "cell_type": "markdown",
   "id": "c2036cec-894b-468e-a8de-d61e077586a3",
   "metadata": {
    "tags": []
   },
   "source": [
    "#### 1:\n",
    "CRISP-DM prosessi viittaa standardiprosessiin jota voidaan käyttää lähtökohtana datapohjaisen ongelman ratkaisuun. Nimi CRISP-DM on lyhenne CRoss Industry Standard Process for Data Mining, ja kuvaa hyvin käytännön levinneisyyttä ja asemaa. Prosessi onkin käytössä yleisesti monella ammattilaisella, kuten luennollakin huomattiin. Prosessin aloituspisteessä on liiketoimintaymmärrys, josta koko analytiikka lähtee liikkeelle. Ajatusmallin avain onkin liiketoimintaongelman tunnistaminen ennen analytiikan käyttöönottoa, jolloin voidaan olla varmoja, että ongelma johon yritetään vastata on oikea. Prosessi koostuu kuudesta eri vaiheesta, jotka myös koostivat luennon sisällön.\n",
    "\n",
    "#### 2:\n",
    "CRISP-DM prosessin toinen vaihe on datan ymmärtäminen suhteessa ratkaistavaan ongelmaan. Vaiheessa analysoidaan mitä dataa tarvitaan ongelman ratkaisua varten, sekä mihin dataan tällähetkellä on jo olemassa pääsy. Kun data tarpeet on selkeät, voidaan datan keruu aloittaa sekä datan aloistava analysointi aloittaa tutkimalla tietotyyppejä, datan määrää ja rakennetta. Visualisoimalla alustavaa dataa ja tutkimalla sen sisäisiä suhteita voidaan datan sopivuus kyseessä olevaan ongelmaan varmistaa.\n",
    "\n",
    "#### 3:\n",
    "Kolmas vaihe CRISP-DM mallissa on datan valmistelu, joka itsessään kattaa jopa 80% projektin laajuudesta. Vaihe kattaa datan valinnan tekemisen, datan siivoamisen ja uusien attribuuttien johtamiseen. Vaiheessa onkin tarkoitus valmistella datasetit viimeisiä vaiheita varten.\n",
    "\n",
    "#### 4:\n",
    "Neljännessä vaiheessa CRISP-DM prosessia siirrytään datan mallintamiseen. Vaiheessa pyritään luomaan teknisesti, tilanne huomioon ottaen hyvä malli, sillä vaikka ideaalitilanteessa malli on paras mahdollinen vaiheen jälkeen, voi realiteetti olla eri ja koko prosessi toistua monta kertaa uudestaan, jolloin mallin sopivuutta voidaan parantaa iteratiivisesti joka kerralla. Teknisesti täysin optimaalisen mallin luominen vaatiikin monta iteraatiota ja saattaa olla projektista riippuen liian resurssi-intensiivistä yhdellä kertaa toteutettavaksi. Vaihe on kuit\n",
    "\n",
    "\n",
    "#### 5:\n",
    "CRISP-DM mallin kaksi viimeistä vaihetta ovat mallin liiketoimintasopivuuden arviointi sekä sen vieminen käytäntöön. Arviointivaiheessa voidaan vielä palata piirrustuspöydälle, jos koetaan tarvetta muuttaa mallia tai havaitaan jotain uutta ongelmaan liittyen, jota tulee tutkia. Julkaisuvaiheessa saatu analytiikka viedään käytäntöön ratkaisemaan haluttu ongelma.\n"
   ]
  },
  {
   "cell_type": "markdown",
   "id": "b1be5f28-9c68-4532-abf1-9d4a79e7f80b",
   "metadata": {},
   "source": [
    "## Kehitysvinkit\n",
    "Lisää esimerkkejä oman datasetin kokoamisesta ja harjoitustyön vaatimuksista kolmen pisteen saamiseen tässä osiossa."
   ]
  },
  {
   "cell_type": "markdown",
   "id": "f9fca542-4a1c-450c-865d-548b8954117a",
   "metadata": {},
   "source": [
    "## Koodi\n",
    "Tehdään listatuille AirBnB asunnoille monimuuttujaregressio ja tutkitaan,  miten tällä voidaan ennustaa asunnon varaustilannetta."
   ]
  },
  {
   "cell_type": "code",
   "execution_count": 1,
   "id": "224565f5-ad2e-47e9-93c5-433b8ccb3aaa",
   "metadata": {},
   "outputs": [],
   "source": [
    "## Haetaan tarvittavat kirjastot\n",
    "import pandas as pd\n",
    "from sklearn import linear_model"
   ]
  },
  {
   "cell_type": "code",
   "execution_count": 7,
   "id": "00ccc3aa-58b3-4aea-b706-c25fb0b582b6",
   "metadata": {},
   "outputs": [
    {
     "name": "stdout",
     "output_type": "stream",
     "text": [
      "price                               int64\n",
      "reviews_per_month                 float64\n",
      "calculated_host_listings_count      int64\n",
      "dtype: object\n",
      "availability_365    int64\n",
      "dtype: object\n"
     ]
    }
   ],
   "source": [
    "##Käytetään listaus datasettiä\n",
    "listings = pd.read_csv(\"listings.csv\")\n",
    "##Jaetaan data kahteen dataframeen\n",
    "tdf = listings[[\"price\", \"reviews_per_month\", \"calculated_host_listings_count\"]]\n",
    "Ydf = listings[[ \"availability_365\"]]\n",
    "##Varmistetaan että datatyypit sopivat\n",
    "print(tdf.dtypes)\n",
    "print(Ydf.dtypes)"
   ]
  },
  {
   "cell_type": "code",
   "execution_count": 8,
   "id": "82d61fda-9232-4a1d-8ee7-61d159dce1e3",
   "metadata": {},
   "outputs": [
    {
     "data": {
      "text/html": [
       "<div>\n",
       "<style scoped>\n",
       "    .dataframe tbody tr th:only-of-type {\n",
       "        vertical-align: middle;\n",
       "    }\n",
       "\n",
       "    .dataframe tbody tr th {\n",
       "        vertical-align: top;\n",
       "    }\n",
       "\n",
       "    .dataframe thead th {\n",
       "        text-align: right;\n",
       "    }\n",
       "</style>\n",
       "<table border=\"1\" class=\"dataframe\">\n",
       "  <thead>\n",
       "    <tr style=\"text-align: right;\">\n",
       "      <th></th>\n",
       "      <th>price</th>\n",
       "      <th>reviews_per_month</th>\n",
       "      <th>calculated_host_listings_count</th>\n",
       "    </tr>\n",
       "  </thead>\n",
       "  <tbody>\n",
       "    <tr>\n",
       "      <th>count</th>\n",
       "      <td>5556.000000</td>\n",
       "      <td>5044.000000</td>\n",
       "      <td>5556.000000</td>\n",
       "    </tr>\n",
       "    <tr>\n",
       "      <th>mean</th>\n",
       "      <td>168.184665</td>\n",
       "      <td>1.412659</td>\n",
       "      <td>2.181066</td>\n",
       "    </tr>\n",
       "    <tr>\n",
       "      <th>std</th>\n",
       "      <td>167.458710</td>\n",
       "      <td>2.583281</td>\n",
       "      <td>3.158970</td>\n",
       "    </tr>\n",
       "    <tr>\n",
       "      <th>min</th>\n",
       "      <td>0.000000</td>\n",
       "      <td>0.010000</td>\n",
       "      <td>1.000000</td>\n",
       "    </tr>\n",
       "    <tr>\n",
       "      <th>25%</th>\n",
       "      <td>98.000000</td>\n",
       "      <td>0.310000</td>\n",
       "      <td>1.000000</td>\n",
       "    </tr>\n",
       "    <tr>\n",
       "      <th>50%</th>\n",
       "      <td>139.000000</td>\n",
       "      <td>0.670000</td>\n",
       "      <td>1.000000</td>\n",
       "    </tr>\n",
       "    <tr>\n",
       "      <th>75%</th>\n",
       "      <td>200.000000</td>\n",
       "      <td>1.670000</td>\n",
       "      <td>2.000000</td>\n",
       "    </tr>\n",
       "    <tr>\n",
       "      <th>max</th>\n",
       "      <td>6477.000000</td>\n",
       "      <td>95.890000</td>\n",
       "      <td>22.000000</td>\n",
       "    </tr>\n",
       "  </tbody>\n",
       "</table>\n",
       "</div>"
      ],
      "text/plain": [
       "             price  reviews_per_month  calculated_host_listings_count\n",
       "count  5556.000000        5044.000000                     5556.000000\n",
       "mean    168.184665           1.412659                        2.181066\n",
       "std     167.458710           2.583281                        3.158970\n",
       "min       0.000000           0.010000                        1.000000\n",
       "25%      98.000000           0.310000                        1.000000\n",
       "50%     139.000000           0.670000                        1.000000\n",
       "75%     200.000000           1.670000                        2.000000\n",
       "max    6477.000000          95.890000                       22.000000"
      ]
     },
     "execution_count": 8,
     "metadata": {},
     "output_type": "execute_result"
    }
   ],
   "source": [
    "tdf.describe()"
   ]
  },
  {
   "cell_type": "code",
   "execution_count": 9,
   "id": "b56cf126-ce47-4814-8ba0-11d6197c988c",
   "metadata": {},
   "outputs": [
    {
     "data": {
      "text/html": [
       "<div>\n",
       "<style scoped>\n",
       "    .dataframe tbody tr th:only-of-type {\n",
       "        vertical-align: middle;\n",
       "    }\n",
       "\n",
       "    .dataframe tbody tr th {\n",
       "        vertical-align: top;\n",
       "    }\n",
       "\n",
       "    .dataframe thead th {\n",
       "        text-align: right;\n",
       "    }\n",
       "</style>\n",
       "<table border=\"1\" class=\"dataframe\">\n",
       "  <thead>\n",
       "    <tr style=\"text-align: right;\">\n",
       "      <th></th>\n",
       "      <th>availability_365</th>\n",
       "    </tr>\n",
       "  </thead>\n",
       "  <tbody>\n",
       "    <tr>\n",
       "      <th>count</th>\n",
       "      <td>5556.000000</td>\n",
       "    </tr>\n",
       "    <tr>\n",
       "      <th>mean</th>\n",
       "      <td>106.352772</td>\n",
       "    </tr>\n",
       "    <tr>\n",
       "      <th>std</th>\n",
       "      <td>129.274364</td>\n",
       "    </tr>\n",
       "    <tr>\n",
       "      <th>min</th>\n",
       "      <td>0.000000</td>\n",
       "    </tr>\n",
       "    <tr>\n",
       "      <th>25%</th>\n",
       "      <td>0.000000</td>\n",
       "    </tr>\n",
       "    <tr>\n",
       "      <th>50%</th>\n",
       "      <td>34.000000</td>\n",
       "    </tr>\n",
       "    <tr>\n",
       "      <th>75%</th>\n",
       "      <td>204.000000</td>\n",
       "    </tr>\n",
       "    <tr>\n",
       "      <th>max</th>\n",
       "      <td>365.000000</td>\n",
       "    </tr>\n",
       "  </tbody>\n",
       "</table>\n",
       "</div>"
      ],
      "text/plain": [
       "       availability_365\n",
       "count       5556.000000\n",
       "mean         106.352772\n",
       "std          129.274364\n",
       "min            0.000000\n",
       "25%            0.000000\n",
       "50%           34.000000\n",
       "75%          204.000000\n",
       "max          365.000000"
      ]
     },
     "execution_count": 9,
     "metadata": {},
     "output_type": "execute_result"
    }
   ],
   "source": [
    "Ydf.describe()"
   ]
  },
  {
   "cell_type": "code",
   "execution_count": 12,
   "id": "7200f53f-98e2-4b54-9da2-ec0720f935b1",
   "metadata": {},
   "outputs": [],
   "source": [
    "##Täytetään puuttuvat arvot\n",
    "Xdf = tdf.fillna(value=0)"
   ]
  },
  {
   "cell_type": "code",
   "execution_count": 13,
   "id": "16bfa841-f274-48ba-a452-036dfe8fe5ec",
   "metadata": {},
   "outputs": [],
   "source": [
    "##luodaan regressiomalli\n",
    "regr = linear_model.LinearRegression().fit(Xdf, Ydf)"
   ]
  },
  {
   "cell_type": "code",
   "execution_count": 14,
   "id": "87bf52bd-d590-42c4-9b3d-8ac56afe1980",
   "metadata": {},
   "outputs": [
    {
     "name": "stdout",
     "output_type": "stream",
     "text": [
      "[[135.63179602]]\n"
     ]
    }
   ],
   "source": [
    "##Ennustetaan asunnon saatavuus, kun hinta on 190, arvosteluja on 2\n",
    "##per kuukausi ja omistajalla on neljä muuta listattua asuntoa.\n",
    "pred = regr.predict([[190, 2.0, 4]])\n",
    "print(pred)"
   ]
  },
  {
   "cell_type": "code",
   "execution_count": 15,
   "id": "b16ae79d-079e-404c-8dcb-b7cb365c6e56",
   "metadata": {},
   "outputs": [
    {
     "name": "stdout",
     "output_type": "stream",
     "text": [
      "[[ 0.07520922 10.78254149 10.94135253]]\n"
     ]
    }
   ],
   "source": [
    "##Tutkitaan kuinka paljon kukin muuttuja vaikuttaa ennusteeseen\n",
    "print(regr.coef_)"
   ]
  },
  {
   "cell_type": "markdown",
   "id": "a1773a44-a23a-453b-b5fc-ec733b74a31e",
   "metadata": {},
   "source": [
    "Huomataan että hinta ei vaikuta juuri yhtään, verrattuna arvioiden määrään ja omistajan muiden listausten määrään."
   ]
  },
  {
   "cell_type": "code",
   "execution_count": null,
   "id": "7cdde588-fcf5-4b2d-b28b-ca7b2be6319b",
   "metadata": {},
   "outputs": [],
   "source": []
  }
 ],
 "metadata": {
  "kernelspec": {
   "display_name": "Python 3 (ipykernel)",
   "language": "python",
   "name": "python3"
  },
  "language_info": {
   "codemirror_mode": {
    "name": "ipython",
    "version": 3
   },
   "file_extension": ".py",
   "mimetype": "text/x-python",
   "name": "python",
   "nbconvert_exporter": "python",
   "pygments_lexer": "ipython3",
   "version": "3.9.6"
  }
 },
 "nbformat": 4,
 "nbformat_minor": 5
}
