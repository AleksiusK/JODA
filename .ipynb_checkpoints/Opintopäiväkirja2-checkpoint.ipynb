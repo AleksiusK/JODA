{
 "cells": [
  {
   "cell_type": "markdown",
   "id": "911665e8",
   "metadata": {},
   "source": [
    "# Luentoviikko 2"
   ]
  },
  {
   "cell_type": "markdown",
   "id": "fb673f93",
   "metadata": {},
   "source": [
    "## Luennon tärkeimmät pointit\n",
    "***\n",
    "Toisella luentoviikolla käytiin läpi eri datalähteitä, datan keräämistä käytännössä, datatieteiden prosessia ja liiketoimintamerkitystä, kirjastoja ja ohjelmia joilla käytännön datatieteiden työtä voidaan toteuttaa. Luennolla käsiteltiin myös, mitä on laadukas data sekä mitä laillisia seikkoja datan keruussa on otettava huomioon. Luentoa varten en itse ollut paikalla, vaan tarkastelin luentomuistiinpanoja netistä sekä perehdyin ennakkomateriaaliin.\n",
    "***\n",
    "#### 1:\n",
    "Datatieteiden käyttökohteet yrityksissä ovat moninaiset, ja uusia sovelluskohteita löytyy jatkuvasti. Dataa käytetäänkin laajasti päätöksenteon tukena monilla aloilla, kuten kuva 1 (1) havainnollistaa. Käyttökohteiden mukana myös datatieteilijöiltä vaadittavat taidot ovat muuttuneet, ja tarvittavien taitojen määrä on kasvanut. Virheellisesti kuitenkin monessa yrityksessä yksittäiselle datatieteilijälle asetetaan vaatimuksia, joita on käytännössä mahdoton täyttää. Ennakkomateriaalissa käytiinkin läpi menestyvän data-analytiikka tiimin vaatimuksia. Avainasemassa liiketoimintahyödyn saavuttamiseen analytiikan avulla onkin laajan osaamispohjan sisällyttäminen tiimiin siten, että tiimissä ymmärretään sekä kova datatieteiden metodologia, mutta samalla myös tutkittavan aiheen liiketoimintamerkitys ja kuinka asia tulisi kommunikoida muulle organisaatiolle.\n",
    "\n",
    "<img src=\"StatistaH2.png\">\n",
    "\n",
    "#### 2:\n",
    "Datatieteiden liiketoimintapotentiaali on suuri, mutta käyttö itsessään on monimutkainen prosessi. Prosessi alkaa datan keruulla jostain lähteestä: luennolla esiteltiin muun muassa raapijat sekä ryömijät, joiden avulla verkkosivuilta voidaan kerätä dataa. Muita lähteitä voivat olla avoimen datan lähteet, kuten esimerkiksi avoindata.fi, verkko API:t kuten Twitterin API, eri järjestelmien luomat lokitiedot, manuaalisesti luodut tietokannat tai fyysiestä työkoneesta kerätty data. Keräämisvaiheen oleellinen osa on myös datan siistiminen, sillä keräämisen jälkeen alkaa kuitenkin nopeasti syntyä ongelmia, ellei kerättystä datasta poisteta virheitä. Siistimisen jälkeen datan analysointiin voidaan luoda tarvittavat algoritmit, joita ajamalla ja iteratiivisesti kehittämällä kyetään lähestymään halutun kaltaista analytiikkaa. Kun analytiikka on olemassa, on aika ottaa askel taakse ja reflektoida, onko saatu lopputulos halutun mukainen ja vastaa tarpeeseen. Jos on, voidaan huoletta jatkaa eteenpäin. Jos kuitenkaan ei ole, pitää palata edelliseen vaiheeseen. Viimesenä vaiheena prosessissa on tärkein vaihe: tulosten kommunikointi. Kuten ennakkomateriaaleissa huomautettiin, usein moni tärkeä havainto jää käyttämättä sillä sitä ei ole saatu kommunikoitua tarpeeksi hyvin eteenpäin.\n",
    "\n",
    "#### 3:\n",
    "Datan keruuta voi toteuttaa verkkoympäristöstä web ryömijöillä ja raapijoilla. Ryömijät ovat ohjelmia, keräävät tietoa verkkosivulta ja  iteroivat annetun verkkosivun rakenteesta löytyviä linkkejä eteenpäin kunnes saavuttavat ennalta määritetyn pisteen ja lopettavat. Raapijat taas keräävät tietoa yhdeltä verkkosivulta. Luennolla annettiin esimerkkeinä useita raapijoita, joista Pythonille käytännöllinen versio on Scrapy.\n",
    "\n",
    "#### 4:\n",
    "Kuten luennolla annetussa materiaalissa tuli ilmi, datan kerääminen tällä tavoin ei ole välttämättä laillista kaikissa tilanteissa, ja paljolti riippuu sivun käyttöehdoista hyväksytäänkö tietojen raapimista. Esimerkkinä käytetty verkkokauppa.fi tiedonraavinta on esimerkki hyvästä syystä kieltää tiedon raapiminen. Potentiaaiset kilpailijat voivat saavuttaa kilpailuetua luomalla analytiikkaa saatavilla olevasta datasta. EU:ssa varsinkin henkilökohtaisen datan raapimisessa on rajoitteensa, kuten Szwed (2021) (2) tuo esille, ja raapijan avulla tiedon keruuta suunniteltaessa kannattaa laillinen taustatyö tehdä kunnolla.\n",
    "\n",
    "#### 5:\n",
    "Data tulee jalostaa aina sopivaan muotoon käytössä olevaa työkalua varten. Datasta voi jalostaa laadukkaampaa omia prosesseja varten eri menetelmillä, esimerkiksi muuttamalla tietomuotoja toisiksi- jotkin tietorakenteet toimivat paremmin kuin toiset käyttötarkoituksesta riippuen. Luennolla esimerkiksi tuotiin Pandas pythonissa, mutta analytiikkaa ja jalostamista varten on olemassa kirjastoja myös Juliassa, R- kielessä ja Javascriptissä.\n",
    "\n",
    "\n",
    "(1): https://www.statista.com/statistics/1235436/worldwide-data-driven-decision-making-organizations-by-sector/\n",
    "\n",
    "(2): https://discoverdigitallaw.com/is-web-scraping-legal-short-guide-on-scraping-under-the-eu-jurisdiction/"
   ]
  },
  {
   "cell_type": "markdown",
   "id": "a46151c3",
   "metadata": {},
   "source": [
    "## Kehitysvinkit\n",
    "Datan laadukkuus jäi hieman auki materiaaleista, konseptia voisi selventää hieman lisää."
   ]
  },
  {
   "cell_type": "markdown",
   "id": "df9a58a7",
   "metadata": {},
   "source": [
    "## Koodi\n",
    "Koodissa on tehty nopea esimerkki datan siivoamisesta. Datana on käytetty taas harjoitustyön Airbnb dataa, tälläkertaa arvosteluja."
   ]
  },
  {
   "cell_type": "code",
   "execution_count": 58,
   "id": "57ad126e",
   "metadata": {},
   "outputs": [],
   "source": [
    "##Sisällytetään tarvittavat kirjastot\n",
    "import pandas as pd\n",
    "import numpy as np"
   ]
  },
  {
   "cell_type": "code",
   "execution_count": 59,
   "id": "b825a3a2",
   "metadata": {},
   "outputs": [
    {
     "name": "stdout",
     "output_type": "stream",
     "text": [
      "listing_id        int64\n",
      "id                int64\n",
      "date             object\n",
      "reviewer_id       int64\n",
      "reviewer_name    object\n",
      "comments         object\n",
      "dtype: object\n",
      "<bound method NDFrame.head of         listing_id                  id        date  reviewer_id reviewer_name  \\\n",
      "0             2818                1191  2009-03-30        10952           Lam   \n",
      "1             2818                1771  2009-04-24        12798         Alice   \n",
      "2             2818                1989  2009-05-03        11869       Natalja   \n",
      "3             2818                2797  2009-05-18        14064       Enrique   \n",
      "4             2818                3151  2009-05-25        17977       Sherwin   \n",
      "...            ...                 ...         ...          ...           ...   \n",
      "272051    53247167  494704591830088276  2021-11-13     23491429     Marie-Eve   \n",
      "272052    53247167  496164258583027548  2021-11-15    234433792       Charles   \n",
      "272053    53269745  506310128841436208  2021-11-29    249850060       Emilien   \n",
      "272054    53294643  505594899322088661  2021-11-28     80402031         Jasna   \n",
      "272055    53294643  509199958575054252  2021-12-03    146394047  Julie Katina   \n",
      "\n",
      "                                                 comments  \n",
      "0       Daniel is really cool. The place was nice and ...  \n",
      "1       Daniel is the most amazing host! His place is ...  \n",
      "2       We had such a great time in Amsterdam. Daniel ...  \n",
      "3       Very professional operation. Room is very clea...  \n",
      "4       Daniel is highly recommended.  He provided all...  \n",
      "...                                                   ...  \n",
      "272051  Very nice room, clean and well decorated in th...  \n",
      "272052  Had a great stay at Minne's place, would recom...  \n",
      "272053       Great place around the centre of Amsterdam !  \n",
      "272054  Nice place, true to pictures. Close to metro s...  \n",
      "272055  We were very happy with our stay! The location...  \n",
      "\n",
      "[272056 rows x 6 columns]>\n"
     ]
    }
   ],
   "source": [
    "##Luetaan datasetti\n",
    "reviews = pd.read_csv(\"reviews.csv.gz\")\n",
    "##Tutkitaan datatyypit ja luetaan alku ja loppu\n",
    "print(reviews.dtypes)\n",
    "print(reviews.head)"
   ]
  },
  {
   "cell_type": "code",
   "execution_count": 60,
   "id": "72dd3162",
   "metadata": {},
   "outputs": [],
   "source": [
    "##Siirrytään poistamaan rivit, joilla on tyhjä kommentti. Koska kommentin\n",
    "##ollessa tyhjä paikalle jää vain tyhä rivi jota pandas ei suoraan älyä\n",
    "##NaN muotoiseksi, tulee rivit muuttaa Pandasille ymmärrettävään muotoon.\n",
    "df = reviews.copy()\n",
    "df.replace(\"\", np.nan, inplace=True)"
   ]
  },
  {
   "cell_type": "code",
   "execution_count": 63,
   "id": "b9a8c3a2",
   "metadata": {},
   "outputs": [
    {
     "name": "stdout",
     "output_type": "stream",
     "text": [
      "<bound method NDFrame.head of         listing_id                  id        date  reviewer_id reviewer_name  \\\n",
      "0             2818                1191  2009-03-30        10952           Lam   \n",
      "1             2818                1771  2009-04-24        12798         Alice   \n",
      "2             2818                1989  2009-05-03        11869       Natalja   \n",
      "3             2818                2797  2009-05-18        14064       Enrique   \n",
      "4             2818                3151  2009-05-25        17977       Sherwin   \n",
      "...            ...                 ...         ...          ...           ...   \n",
      "272051    53247167  494704591830088276  2021-11-13     23491429     Marie-Eve   \n",
      "272052    53247167  496164258583027548  2021-11-15    234433792       Charles   \n",
      "272053    53269745  506310128841436208  2021-11-29    249850060       Emilien   \n",
      "272054    53294643  505594899322088661  2021-11-28     80402031         Jasna   \n",
      "272055    53294643  509199958575054252  2021-12-03    146394047  Julie Katina   \n",
      "\n",
      "                                                 comments  \n",
      "0       Daniel is really cool. The place was nice and ...  \n",
      "1       Daniel is the most amazing host! His place is ...  \n",
      "2       We had such a great time in Amsterdam. Daniel ...  \n",
      "3       Very professional operation. Room is very clea...  \n",
      "4       Daniel is highly recommended.  He provided all...  \n",
      "...                                                   ...  \n",
      "272051  Very nice room, clean and well decorated in th...  \n",
      "272052  Had a great stay at Minne's place, would recom...  \n",
      "272053       Great place around the centre of Amsterdam !  \n",
      "272054  Nice place, true to pictures. Close to metro s...  \n",
      "272055  We were very happy with our stay! The location...  \n",
      "\n",
      "[272056 rows x 6 columns]>\n"
     ]
    }
   ],
   "source": [
    "##Nyt kun tyhjät kommentit on merkitty NaN-muotoon, voidaan ne poistaa.\n",
    "df.dropna()\n",
    "print(df.head)"
   ]
  },
  {
   "cell_type": "code",
   "execution_count": null,
   "id": "dfe3425d",
   "metadata": {},
   "outputs": [],
   "source": [
    "##Tällä kertaa datassa ei ollut yhtään tyhää kommenttia, joka huomataan\n",
    "##tarkastelemalla rivien määrää."
   ]
  }
 ],
 "metadata": {
  "kernelspec": {
   "display_name": "Python 3 (ipykernel)",
   "language": "python",
   "name": "python3"
  },
  "language_info": {
   "codemirror_mode": {
    "name": "ipython",
    "version": 3
   },
   "file_extension": ".py",
   "mimetype": "text/x-python",
   "name": "python",
   "nbconvert_exporter": "python",
   "pygments_lexer": "ipython3",
   "version": "3.9.6"
  }
 },
 "nbformat": 4,
 "nbformat_minor": 5
}
