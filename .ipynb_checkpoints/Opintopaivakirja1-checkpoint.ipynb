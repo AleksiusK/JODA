{
 "cells": [
  {
   "cell_type": "markdown",
   "id": "39b690eb",
   "metadata": {},
   "source": [
    " # Luentoviikko 1"
   ]
  },
  {
   "cell_type": "markdown",
   "id": "b3da8b07",
   "metadata": {},
   "source": [
    "## Luennon tärkeimmät pointit\n",
    "***\n",
    "Ensimmäisellä luentoviikolla läpi käytiin kurssin perusteita ja suoritustapoja sekä datatieteen perusteita. Katsoin itse luennot etänä 10.3. Datatieteet eivät itselleni ole täysin vieras alue, sillä olen itse ehtinyt työskentelemään data-analytiikan parissa jo hetken aikaa ja tämän takia päätinkin valita kurssin syventääkseni omaa osaamistani. Pohjimmainen syy omalle mielenkiinnolle on kuitenkin käyttökohteiden moninaisuus sekä riippumattomuus tietystä teollisuudenalasta, jonka datatieteet mahdollistavat. Luennolla mainittu opintopäiväkirjan vaatimus viidestä pointista on alla, ja jokaista pointtia on avattu noin kappaleen verran. Samalla on pyritty avaamaan luennon keskeisimmät asiat.\n",
    "***\n",
    "### Oppimistavoitteet\n",
    "Oppimistavoitteina kurssille on syventää omaa osaamista datatieteiden teknologioista ja käytännöistä sekä käyttökohteista, sekä sisäistää paremmin datatieteiden taustateoriaa. Kurssin jälkeen ideaalitilanne olisi, että kykenisin jatkamaan opitun tiedon syventämistä ja soveltamista itsenäisesti sekä tietäisin tärkeimmät käsitteet ja käytännöt.\n",
    "\n",
    "#### 1:\n",
    "Nykymaailmassa dataa on saatavilla- niin kuin myös luennolla huomautettiin- koko ajan enemmän. Kyky hyödyntää sitä tukena liiketoiminnan päätöksentekoon onkin kysytty ja kasvaa tarpeessaan tulevaisuudessa. Käyttökohteisiin liittyen Takuya Kitagawa The Data Chief- podcastissä (1) toi hyvin esille Rakutenin, Japanista globaaliksi kasvaneen viihde sekä teleoperaattorialoilla toimiva yritys datatieteiden käytön. Käyttökohteita datatieteille olikin aina digitaalisista kaksosista asiakkaille sopivien urheilujoukkoeiden valintaan sponsorointisopimuksia ja näkyvyyden hankkimista varten. \n",
    "\n",
    "#### 2:\n",
    "Datatieteet on laaja-alainen käsite joka kattaa alleen luennolla esitettyyn tapaan niin kommunikaatio, liiketoiminta, ohjelmointi kuin tilasto-osaamista. Kokonaisuutena datatieteilijän tai tietojen tutkijan tuleekin kyetä hallitsemaan laaja skaala taitoja toimiakseen tehokkaasti liiketoiminnan tukena. Tehtävän laajat osaamisvaatimukset heijastavatkin datatieteiden moninaisia käyttötarkoituksia. Vaikka datatieteitä voidaankin käyttää monesti liiketoiminnan kehittämiseen ja tehostamiseen, ei se kuitenkaan tarjoa kaikkia vastauksia sillä kaikki data on loppujen lopulta ihmisten keräämää, ja siten altis virheille. Liiallinen ja sokea luotto voivatkin altistaa yrityksen datan omien rajoitusten luomille virheille.\n",
    "\n",
    "#### 3:\n",
    "Datateknologioiden yksi tärkeä osa on niiden tilastollinen ulottuvuus, tänäpäivänä siis käytännössä mahdollisuus rakentaa koneoppimismalleja liiketoiminnan kehittämiseksi. Koneoppimismallien avulla voidaan datasta tehdä tehokkaasti havaintoja. Esimerkiksi luentodiojen lopussa esitetty scikit-learn on yksi Pythonin koneoppimiskirjastoista, joilla dataa voidaan rikastaa ja analysoida. Eri algoritmien avulla kyetään datasta saamaan entistä enemmän uusia yllättäviä havaintoja. Käyttökohteita koneoppimismalleille onkin tuotetarjousten luonnista itseohjautuviin autoihin.\n",
    "\n",
    "#### 4:\n",
    "Datatieteille yksi rajoittava tekijä on saatavilla oleva laskentateho. Mooren lain saavuttaessa huippunsa, transistorien kutistuessa lähes atomin mittapuille, ongelmaksi nousee aina entistä suurempien datamassojen ja mallien käsittely. Ratkaisuna suurempien tietomäärien käsittelyyn on käytettävien algoritmien tehostaminen. Mitä paremmin algoritmin suoritusnopeus skaalautuu datapisteiden kanssa, sitä vähemmän se kuluttaa laskentatehoa, sähköä sekä aikaa ja siten kykenee toimimaan useammissa käyttökohteissa. \n",
    "\n",
    "#### 5:\n",
    "Kasvavaan datan määrään helppona ratkaisuna yksittäiselle datatieteilijälle on kasvattaa laskentatehoa. Tämän voi helposti saada aikaan siirtämällä tehtävät operaatiot pilviympäristöön, tai suorittamalla niitä laskentaklusterissa. Ratkaisuja on monia, ja on paljolti tilannekohtaista mitä työkaluja kannattaa käyttää. Kaiken suurimpien datamäärien käyttöön on olemassa omat työkalunsa (esimerkiksi Apache Spark), joita ei henkilökohtaisessa käytössä tule juuri koskaan tarvitsemaa. Data analytiikkaan riittääkin vähimmillään pelkästään oma henkilökohtainen tietokone.\n",
    "\n",
    "\n",
    "(1): https://www.thoughtspot.com/data-chief/podcast\n"
   ]
  },
  {
   "cell_type": "markdown",
   "id": "23f2a4d9",
   "metadata": {},
   "source": [
    "## Kehitysvinkit\n",
    "\n",
    "PDF jossa Jupyter notebookin asennus ja käyttö-ohjeet."
   ]
  },
  {
   "cell_type": "markdown",
   "id": "1636fa91",
   "metadata": {},
   "source": [
    "## Koodi\n",
    "\n",
    "Koodissa on perjantain demokoodia apuan käyttäen haettu harjoitustyöhön käytettävää airbnb dataa."
   ]
  },
  {
   "cell_type": "code",
   "execution_count": null,
   "id": "c99e6b5c",
   "metadata": {},
   "outputs": [],
   "source": [
    "##Import pandas to work with the data. No other libraries are needed in this stage.\n",
    "import pandas as pd"
   ]
  },
  {
   "cell_type": "code",
   "execution_count": null,
   "id": "b9a3f911",
   "metadata": {},
   "outputs": [],
   "source": [
    "##Read the csv file that was downloaded. \n",
    "##Pandas formats it to a dataframe automatically.\n",
    "listings_df = pd.read_csv(\"listings.csv\")\n",
    "##Copy the dataframe so we don't make changes accidentally to the original.\n",
    "df = listings_df.copy()\n",
    "##Checking out what kind of headers the colums have to get a\n",
    "##quick view to the data.\n",
    "print(\"List of headers in the data: \", df.columns.values.tolist())"
   ]
  },
  {
   "cell_type": "code",
   "execution_count": null,
   "id": "8b7853c4",
   "metadata": {},
   "outputs": [],
   "source": [
    "##Print the first rows in the dataframe to get a sense of what kind of data\n",
    "##we are working with.\n",
    "print(df.head())"
   ]
  },
  {
   "cell_type": "code",
   "execution_count": null,
   "id": "9dcb91ea",
   "metadata": {},
   "outputs": [],
   "source": [
    "##Check out if the datatypes are suitable for each column.\n",
    "print(df.dtypes)"
   ]
  },
  {
   "cell_type": "code",
   "execution_count": null,
   "id": "5b8bfba3",
   "metadata": {},
   "outputs": [],
   "source": [
    "##Check out if how the dataframe looks\n",
    "df"
   ]
  },
  {
   "cell_type": "code",
   "execution_count": null,
   "id": "85d63108",
   "metadata": {
    "scrolled": false
   },
   "outputs": [],
   "source": [
    "##Find out what kind of rooms are most commonly put to airbnb\n",
    "df = listings_df.groupby(by='room_type')['id'].nunique()\n",
    "print(df)"
   ]
  },
  {
   "cell_type": "code",
   "execution_count": null,
   "id": "d0cf557f",
   "metadata": {},
   "outputs": [],
   "source": []
  }
 ],
 "metadata": {
  "kernelspec": {
   "display_name": "Python 3 (ipykernel)",
   "language": "python",
   "name": "python3"
  },
  "language_info": {
   "codemirror_mode": {
    "name": "ipython",
    "version": 3
   },
   "file_extension": ".py",
   "mimetype": "text/x-python",
   "name": "python",
   "nbconvert_exporter": "python",
   "pygments_lexer": "ipython3",
   "version": "3.9.6"
  }
 },
 "nbformat": 4,
 "nbformat_minor": 5
}
