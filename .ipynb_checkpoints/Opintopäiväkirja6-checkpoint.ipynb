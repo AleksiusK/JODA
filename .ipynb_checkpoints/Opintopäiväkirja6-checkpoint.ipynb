{
 "cells": [
  {
   "cell_type": "markdown",
   "id": "2c3b763a-7974-45fd-9be9-7ca702f5fa97",
   "metadata": {},
   "source": [
    "# Luentoviikko 6"
   ]
  },
  {
   "cell_type": "markdown",
   "id": "08baa894-61d8-4aa7-b7b5-c0d6c9014f0c",
   "metadata": {},
   "source": [
    "## Luennon tärkeimmät pointit\n",
    "***\n",
    "Luentoviikolla kuusi käsiteltiin ohjaamatonta oppimista ja sen hyödyntämistä, ohjatun ja ohjaamattoman oppimisen eroja, miten ohjaamatonta oppimista voidaan hyödyntää, mitä menetelmiä ohjaamattomassa oppimisessa sovelletaan sekä miten, jos mitenkään, ohjaamattomalla oppimisella kyetään tunnistamaan \"unknown unknowns\", tuntemattomia tuntemattomia.\n",
    "***"
   ]
  },
  {
   "cell_type": "markdown",
   "id": "ef48626d-0d4b-4beb-9d45-3e7730f3ed92",
   "metadata": {},
   "source": [
    "#### 1:\n",
    "Ohjaamaton oppiminen eroaa ohjatusta oppimisesta fundamentaalisesti jo vaadittavan ajatusmallin tasolla. Siinä missä ohjatussa oppimisessa pyritään kouluttamaan malli ennustamaan tunnettua ominaisuutta koulutusdatan pohjalta, ohjaamattomassa oppimisessa pyritään havainnoimaan datan sisäisiä yhteyksiä ja siten ns. kategorisoimaan datapisteitä. Ohjaamattomassa oppimisessa ei tiedetä, mitä datasta tullaan löytämään, joten oppiminen noudattaa eri logiikkaa ohjattuun oppimiseen verrattuna.\n",
    "\n",
    "Ohjaamattomassa oppimisessa tärkeä elementti on varsinaisesta analytiikasta suoritettavat johtopäätökset, sillä monessa tilanteessa tulokset ovat monitulkinnalliset. Varomaton analyytikko voi siis vahingossa- tai tahallaan- vaikuttaa analytiikan lopputulokseen omalla tulkinnallaan.\n",
    "\n",
    "#### 2:\n",
    "Ohjaamatonta oppimista voidaan hyödyntää esimerkiksi asiakkaiden segmentoinnissa, verkoston sisäisten linkkien löytämisessä tai NLP- kontekstissa tekstidatan aihealueiden analysoinnissa esimerkiksi tutkimuskontekstissa. Segmentointi on selkein esimerkki ohjaamattomasta oppimisesta, sillä sen tavoitteena on erottelevien ryhmien luominen asiakkaiden ominaisuuksien perusteella. Ennakoivassa kontekstissa voidaan metodia käyttääkin esimerkiksi asiakkaiden kategorisoinnissa tulevan asiakastyytyväisyyden perusteella, kun tiedetään vain asiakkaan antamat tiedot.\n",
    "\n",
    "#### 3:\n",
    "Ohjaamaton oppiminen noudattaa ohjatusta oppimisesta eroavaa työprosessia. Esikäsittelyn merkitys erityisesti korostuu ohjaamattomassa oppimisessa, sillä poikkeamat ja suuret vaihtelut datassa voivat tehdä luokittelusta hyödyttömän. Paljon muusta datasta poikkeavat datapisteet muodostavat algoritmissa helposti omia joukkojaan, joka varsinkin algoritmeissa, joissa haluttujen joukkojen määrä määritellään etukäteen. \n",
    "\n",
    "#### 4:\n",
    "Ohjatun oppimisen sovelluksia ovat esimerkiksi aihemallinnus, klusterointi (ryvästäminen), verkostoanalyysi ja ostoskorianalyysi. Aihemallinnuksessa ohjaamatonta oppimista hyödynnetään NLP- kontekstissa abstraktien aiheiden tunnistamiseen ja piilotettujen semanttisten rakenteiden löytämiseen. Klusteroinnissa ohjaamatonta oppimista puolestaan hyödynnetään eri datapisteiden kategorisointiin esimerkiksi datapisteiden etäisyyden perusteella. Verkostoanalyysi pyrkii puolestaan huomaamaan verkostojen sisäisiä yhteyksiä, ja ostoskorianalyysi nimensä mukaisesti yleisesti yhteen kuuluvia elementtejä.\n",
    "\n",
    "#### 5:\n",
    "Tuntemattomien tuntemattommien tunnistaminen on ohjaamattoman oppimisen avulla teoreettisesti mahdollista, mutta usein analytiikan ja datan laatu sekä analytiikon kyvykkyys rajoittavat mahdollisuuksia. Tarkoituksena tuntemattomien tuntemattomien tunnistamisella onkin huomata täysin ennalta-arvaamattomia piirteitä saatavilla olevasta datasta. Koska kuitenkaan tuntemattomat tuntemattomat ovat nimensä mukaisesti täysin tuntemattomia, analytiikan tulkinnalla on suuri merkitys menestysmahdollisuuksiin- voi olla hankala tunnistaa elementtejä, joita ei tiedetty olevan."
   ]
  },
  {
   "cell_type": "markdown",
   "id": "622c6dfd-d948-4cc8-9d7c-9d4570cda9d6",
   "metadata": {},
   "source": [
    "## Kehitysvinkit\n",
    "Ostoskorianalyysi voisi olla hyödyllinen esimerkki käydä tarkemmin läpi, sekä paremmin käsin kosketeltava opiskelijoille"
   ]
  },
  {
   "cell_type": "markdown",
   "id": "2a19a798-bed3-44ae-bdfd-920a502cd626",
   "metadata": {},
   "source": [
    "## Koodi\n",
    "Koodissa esitetään nope esimerkki BIRCH- klusterointialgoritmin käytöstä, hyödyntäen jo ennestään tuttua AirBnB- listausdataa."
   ]
  },
  {
   "cell_type": "code",
   "execution_count": 2,
   "id": "41bb1772-bf7a-45ea-b3d5-2b7837a78f66",
   "metadata": {},
   "outputs": [],
   "source": [
    "from sklearn.cluster import Birch\n",
    "from sklearn.preprocessing import StandardScaler\n",
    "import pandas as pd"
   ]
  },
  {
   "cell_type": "code",
   "execution_count": 22,
   "id": "255fb597-4c7c-4440-82c8-031d07423230",
   "metadata": {},
   "outputs": [
    {
     "data": {
      "text/html": [
       "<div>\n",
       "<style scoped>\n",
       "    .dataframe tbody tr th:only-of-type {\n",
       "        vertical-align: middle;\n",
       "    }\n",
       "\n",
       "    .dataframe tbody tr th {\n",
       "        vertical-align: top;\n",
       "    }\n",
       "\n",
       "    .dataframe thead th {\n",
       "        text-align: right;\n",
       "    }\n",
       "</style>\n",
       "<table border=\"1\" class=\"dataframe\">\n",
       "  <thead>\n",
       "    <tr style=\"text-align: right;\">\n",
       "      <th></th>\n",
       "      <th>id</th>\n",
       "      <th>name</th>\n",
       "      <th>host_id</th>\n",
       "      <th>host_name</th>\n",
       "      <th>neighbourhood_group</th>\n",
       "      <th>neighbourhood</th>\n",
       "      <th>latitude</th>\n",
       "      <th>longitude</th>\n",
       "      <th>room_type</th>\n",
       "      <th>price</th>\n",
       "      <th>minimum_nights</th>\n",
       "      <th>number_of_reviews</th>\n",
       "      <th>last_review</th>\n",
       "      <th>reviews_per_month</th>\n",
       "      <th>calculated_host_listings_count</th>\n",
       "      <th>availability_365</th>\n",
       "      <th>number_of_reviews_ltm</th>\n",
       "      <th>license</th>\n",
       "    </tr>\n",
       "  </thead>\n",
       "  <tbody>\n",
       "    <tr>\n",
       "      <th>0</th>\n",
       "      <td>2818</td>\n",
       "      <td>Quiet Garden View Room &amp; Super Fast WiFi</td>\n",
       "      <td>3159</td>\n",
       "      <td>Daniel</td>\n",
       "      <td>NaN</td>\n",
       "      <td>Oostelijk Havengebied - Indische Buurt</td>\n",
       "      <td>52.36435</td>\n",
       "      <td>4.94358</td>\n",
       "      <td>Private room</td>\n",
       "      <td>60</td>\n",
       "      <td>3</td>\n",
       "      <td>285</td>\n",
       "      <td>2021-11-21</td>\n",
       "      <td>2.83</td>\n",
       "      <td>1</td>\n",
       "      <td>70</td>\n",
       "      <td>7</td>\n",
       "      <td>0363 5F3A 5684 6750 D14D</td>\n",
       "    </tr>\n",
       "    <tr>\n",
       "      <th>1</th>\n",
       "      <td>20168</td>\n",
       "      <td>Studio with private bathroom in the centre 1</td>\n",
       "      <td>59484</td>\n",
       "      <td>Alexander</td>\n",
       "      <td>NaN</td>\n",
       "      <td>Centrum-Oost</td>\n",
       "      <td>52.36407</td>\n",
       "      <td>4.89393</td>\n",
       "      <td>Private room</td>\n",
       "      <td>106</td>\n",
       "      <td>1</td>\n",
       "      <td>339</td>\n",
       "      <td>2020-03-27</td>\n",
       "      <td>3.53</td>\n",
       "      <td>2</td>\n",
       "      <td>0</td>\n",
       "      <td>0</td>\n",
       "      <td>0363 CBB3 2C10 0C2A 1E29</td>\n",
       "    </tr>\n",
       "    <tr>\n",
       "      <th>2</th>\n",
       "      <td>27886</td>\n",
       "      <td>Romantic, stylish B&amp;B houseboat in canal district</td>\n",
       "      <td>97647</td>\n",
       "      <td>Flip</td>\n",
       "      <td>NaN</td>\n",
       "      <td>Centrum-West</td>\n",
       "      <td>52.38761</td>\n",
       "      <td>4.89188</td>\n",
       "      <td>Private room</td>\n",
       "      <td>135</td>\n",
       "      <td>2</td>\n",
       "      <td>226</td>\n",
       "      <td>2021-10-20</td>\n",
       "      <td>2.11</td>\n",
       "      <td>1</td>\n",
       "      <td>8</td>\n",
       "      <td>7</td>\n",
       "      <td>0363 974D 4986 7411 88D8</td>\n",
       "    </tr>\n",
       "    <tr>\n",
       "      <th>3</th>\n",
       "      <td>28871</td>\n",
       "      <td>Comfortable double room</td>\n",
       "      <td>124245</td>\n",
       "      <td>Edwin</td>\n",
       "      <td>NaN</td>\n",
       "      <td>Centrum-West</td>\n",
       "      <td>52.36775</td>\n",
       "      <td>4.89092</td>\n",
       "      <td>Private room</td>\n",
       "      <td>75</td>\n",
       "      <td>2</td>\n",
       "      <td>370</td>\n",
       "      <td>2021-11-25</td>\n",
       "      <td>4.63</td>\n",
       "      <td>2</td>\n",
       "      <td>238</td>\n",
       "      <td>34</td>\n",
       "      <td>0363 607B EA74 0BD8 2F6F</td>\n",
       "    </tr>\n",
       "    <tr>\n",
       "      <th>4</th>\n",
       "      <td>29051</td>\n",
       "      <td>Comfortable single room</td>\n",
       "      <td>124245</td>\n",
       "      <td>Edwin</td>\n",
       "      <td>NaN</td>\n",
       "      <td>Centrum-Oost</td>\n",
       "      <td>52.36584</td>\n",
       "      <td>4.89111</td>\n",
       "      <td>Private room</td>\n",
       "      <td>55</td>\n",
       "      <td>2</td>\n",
       "      <td>520</td>\n",
       "      <td>2021-11-26</td>\n",
       "      <td>5.57</td>\n",
       "      <td>2</td>\n",
       "      <td>267</td>\n",
       "      <td>41</td>\n",
       "      <td>0363 607B EA74 0BD8 2F6F</td>\n",
       "    </tr>\n",
       "  </tbody>\n",
       "</table>\n",
       "</div>"
      ],
      "text/plain": [
       "      id                                               name  host_id  \\\n",
       "0   2818           Quiet Garden View Room & Super Fast WiFi     3159   \n",
       "1  20168       Studio with private bathroom in the centre 1    59484   \n",
       "2  27886  Romantic, stylish B&B houseboat in canal district    97647   \n",
       "3  28871                            Comfortable double room   124245   \n",
       "4  29051                            Comfortable single room   124245   \n",
       "\n",
       "   host_name  neighbourhood_group                           neighbourhood  \\\n",
       "0     Daniel                  NaN  Oostelijk Havengebied - Indische Buurt   \n",
       "1  Alexander                  NaN                            Centrum-Oost   \n",
       "2       Flip                  NaN                            Centrum-West   \n",
       "3      Edwin                  NaN                            Centrum-West   \n",
       "4      Edwin                  NaN                            Centrum-Oost   \n",
       "\n",
       "   latitude  longitude     room_type  price  minimum_nights  \\\n",
       "0  52.36435    4.94358  Private room     60               3   \n",
       "1  52.36407    4.89393  Private room    106               1   \n",
       "2  52.38761    4.89188  Private room    135               2   \n",
       "3  52.36775    4.89092  Private room     75               2   \n",
       "4  52.36584    4.89111  Private room     55               2   \n",
       "\n",
       "   number_of_reviews last_review  reviews_per_month  \\\n",
       "0                285  2021-11-21               2.83   \n",
       "1                339  2020-03-27               3.53   \n",
       "2                226  2021-10-20               2.11   \n",
       "3                370  2021-11-25               4.63   \n",
       "4                520  2021-11-26               5.57   \n",
       "\n",
       "   calculated_host_listings_count  availability_365  number_of_reviews_ltm  \\\n",
       "0                               1                70                      7   \n",
       "1                               2                 0                      0   \n",
       "2                               1                 8                      7   \n",
       "3                               2               238                     34   \n",
       "4                               2               267                     41   \n",
       "\n",
       "                    license  \n",
       "0  0363 5F3A 5684 6750 D14D  \n",
       "1  0363 CBB3 2C10 0C2A 1E29  \n",
       "2  0363 974D 4986 7411 88D8  \n",
       "3  0363 607B EA74 0BD8 2F6F  \n",
       "4  0363 607B EA74 0BD8 2F6F  "
      ]
     },
     "execution_count": 22,
     "metadata": {},
     "output_type": "execute_result"
    }
   ],
   "source": [
    "df = pd.read_csv(\"./listings.csv\")\n",
    "df.head()"
   ]
  },
  {
   "cell_type": "code",
   "execution_count": 23,
   "id": "f7ff12b7-c04c-4361-9231-e1b2b25cc1ea",
   "metadata": {},
   "outputs": [
    {
     "data": {
      "text/html": [
       "<div>\n",
       "<style scoped>\n",
       "    .dataframe tbody tr th:only-of-type {\n",
       "        vertical-align: middle;\n",
       "    }\n",
       "\n",
       "    .dataframe tbody tr th {\n",
       "        vertical-align: top;\n",
       "    }\n",
       "\n",
       "    .dataframe thead th {\n",
       "        text-align: right;\n",
       "    }\n",
       "</style>\n",
       "<table border=\"1\" class=\"dataframe\">\n",
       "  <thead>\n",
       "    <tr style=\"text-align: right;\">\n",
       "      <th></th>\n",
       "      <th>price</th>\n",
       "      <th>minimum_nights</th>\n",
       "      <th>number_of_reviews</th>\n",
       "      <th>reviews_per_month</th>\n",
       "      <th>calculated_host_listings_count</th>\n",
       "      <th>availability_365</th>\n",
       "      <th>number_of_reviews_ltm</th>\n",
       "    </tr>\n",
       "  </thead>\n",
       "  <tbody>\n",
       "    <tr>\n",
       "      <th>0</th>\n",
       "      <td>60</td>\n",
       "      <td>3</td>\n",
       "      <td>285</td>\n",
       "      <td>2.83</td>\n",
       "      <td>1</td>\n",
       "      <td>70</td>\n",
       "      <td>7</td>\n",
       "    </tr>\n",
       "    <tr>\n",
       "      <th>1</th>\n",
       "      <td>106</td>\n",
       "      <td>1</td>\n",
       "      <td>339</td>\n",
       "      <td>3.53</td>\n",
       "      <td>2</td>\n",
       "      <td>0</td>\n",
       "      <td>0</td>\n",
       "    </tr>\n",
       "    <tr>\n",
       "      <th>2</th>\n",
       "      <td>135</td>\n",
       "      <td>2</td>\n",
       "      <td>226</td>\n",
       "      <td>2.11</td>\n",
       "      <td>1</td>\n",
       "      <td>8</td>\n",
       "      <td>7</td>\n",
       "    </tr>\n",
       "    <tr>\n",
       "      <th>3</th>\n",
       "      <td>75</td>\n",
       "      <td>2</td>\n",
       "      <td>370</td>\n",
       "      <td>4.63</td>\n",
       "      <td>2</td>\n",
       "      <td>238</td>\n",
       "      <td>34</td>\n",
       "    </tr>\n",
       "    <tr>\n",
       "      <th>4</th>\n",
       "      <td>55</td>\n",
       "      <td>2</td>\n",
       "      <td>520</td>\n",
       "      <td>5.57</td>\n",
       "      <td>2</td>\n",
       "      <td>267</td>\n",
       "      <td>41</td>\n",
       "    </tr>\n",
       "  </tbody>\n",
       "</table>\n",
       "</div>"
      ],
      "text/plain": [
       "   price  minimum_nights  number_of_reviews  reviews_per_month  \\\n",
       "0     60               3                285               2.83   \n",
       "1    106               1                339               3.53   \n",
       "2    135               2                226               2.11   \n",
       "3     75               2                370               4.63   \n",
       "4     55               2                520               5.57   \n",
       "\n",
       "   calculated_host_listings_count  availability_365  number_of_reviews_ltm  \n",
       "0                               1                70                      7  \n",
       "1                               2                 0                      0  \n",
       "2                               1                 8                      7  \n",
       "3                               2               238                     34  \n",
       "4                               2               267                     41  "
      ]
     },
     "execution_count": 23,
     "metadata": {},
     "output_type": "execute_result"
    }
   ],
   "source": [
    "df = df.drop(columns=[\"neighbourhood_group\", \"name\", \"neighbourhood\", \"room_type\", \"license\", \"last_review\", \"host_name\", \"host_id\", \"id\", \"latitude\", \"longitude\"])\n",
    "df = df.dropna(axis=0)\n",
    "df.head()"
   ]
  },
  {
   "cell_type": "code",
   "execution_count": 28,
   "id": "2ad91399-3e25-4a8a-a483-c4659f3f475d",
   "metadata": {},
   "outputs": [
    {
     "data": {
      "text/plain": [
       "array([[<AxesSubplot:title={'center':'price'}>,\n",
       "        <AxesSubplot:title={'center':'minimum_nights'}>,\n",
       "        <AxesSubplot:title={'center':'number_of_reviews'}>],\n",
       "       [<AxesSubplot:title={'center':'reviews_per_month'}>,\n",
       "        <AxesSubplot:title={'center':'calculated_host_listings_count'}>,\n",
       "        <AxesSubplot:title={'center':'availability_365'}>],\n",
       "       [<AxesSubplot:title={'center':'number_of_reviews_ltm'}>,\n",
       "        <AxesSubplot:>, <AxesSubplot:>]], dtype=object)"
      ]
     },
     "execution_count": 28,
     "metadata": {},
     "output_type": "execute_result"
    },
    {
     "data": {
      "image/png": "[encoded data removed]",
      "text/plain": [
       "<Figure size 864x1008 with 9 Axes>"
      ]
     },
     "metadata": {
      "needs_background": "light"
     },
     "output_type": "display_data"
    }
   ],
   "source": [
    "cols = df.columns\n",
    "## Standardoidaan data\n",
    "scaled = StandardScaler().fit_transform(df.to_numpy())\n",
    "scaled_df = pd.DataFrame(scaled, columns=cols)\n",
    "hist = scaled_df.hist(figsize=(12, 14))\n",
    "hist"
   ]
  },
  {
   "cell_type": "code",
   "execution_count": 27,
   "id": "26e7a06d-2139-449a-9b8a-02a515c0c694",
   "metadata": {},
   "outputs": [
    {
     "data": {
      "text/plain": [
       "array([[<AxesSubplot:title={'center':'0'}>]], dtype=object)"
      ]
     },
     "execution_count": 27,
     "metadata": {},
     "output_type": "execute_result"
    },
    {
     "data": {
      "image/png": "[encoded data removed]",
      "text/plain": [
       "<Figure size 432x288 with 1 Axes>"
      ]
     },
     "metadata": {
      "needs_background": "light"
     },
     "output_type": "display_data"
    }
   ],
   "source": [
    "## Kuten voidaan huomata, ei data ole paljolti klusteroitavaa sillä jakaumat ovat epäselvät.\n",
    "## Käytetään silti Birchiä, ja klusteroidaan data kahteenkymmeneen osaan.\n",
    "birch = Birch(threshold=0.4, compute_labels=True, n_clusters=20)\n",
    "birch.fit(scaled_df)\n",
    "tdf = pd.DataFrame(birch.labels_)\n",
    "hist_ = tdf.hist()\n",
    "hist_"
   ]
  },
  {
   "cell_type": "code",
   "execution_count": null,
   "id": "86e5fe63-94ce-48ef-9eba-fdc81ac0d584",
   "metadata": {},
   "outputs": [],
   "source": []
  }
 ],
 "metadata": {
  "kernelspec": {
   "display_name": "Python 3 (ipykernel)",
   "language": "python",
   "name": "python3"
  },
  "language_info": {
   "codemirror_mode": {
    "name": "ipython",
    "version": 3
   },
   "file_extension": ".py",
   "mimetype": "text/x-python",
   "name": "python",
   "nbconvert_exporter": "python",
   "pygments_lexer": "ipython3",
   "version": "3.9.6"
  }
 },
 "nbformat": 4,
 "nbformat_minor": 5
}
