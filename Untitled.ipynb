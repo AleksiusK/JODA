{
 "cells": [
  {
   "cell_type": "markdown",
   "id": "3c8b1a8e",
   "metadata": {},
   "source": [
    "# Johdanto datatieteeseen opintopäiväkirja"
   ]
  },
  {
   "cell_type": "markdown",
   "id": "124049ed",
   "metadata": {},
   "source": [
    "# # Luentoviikko 1\n",
    "\n",
    "\n",
    "Ensimmäisellä luentoviikolla läpi käytiin "
   ]
  }
 ],
 "metadata": {
  "kernelspec": {
   "display_name": "Python 3 (ipykernel)",
   "language": "python",
   "name": "python3"
  },
  "language_info": {
   "codemirror_mode": {
    "name": "ipython",
    "version": 3
   },
   "file_extension": ".py",
   "mimetype": "text/x-python",
   "name": "python",
   "nbconvert_exporter": "python",
   "pygments_lexer": "ipython3",
   "version": "3.9.6"
  }
 },
 "nbformat": 4,
 "nbformat_minor": 5
}
